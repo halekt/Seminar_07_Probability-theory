{
 "cells": [
  {
   "cell_type": "code",
   "execution_count": null,
   "id": "e5e1797a",
   "metadata": {},
   "outputs": [],
   "source": [
    "# Задача 1. Даны две независимые выборки. Не соблюдается условие нормальности\n",
    "# x1 380,420, 290\n",
    "# y1 140,360,200,900\n",
    "# Сделайте вывод по результатам, полученным с помощью функции, имеются ли статистические различия между группами?"
   ]
  },
  {
   "cell_type": "code",
   "execution_count": 1,
   "id": "6c0b27d5",
   "metadata": {},
   "outputs": [],
   "source": [
    "import numpy as np\n",
    "import scipy.stats as stats"
   ]
  },
  {
   "cell_type": "code",
   "execution_count": 2,
   "id": "5e5a6207",
   "metadata": {},
   "outputs": [
    {
     "data": {
      "text/plain": [
       "MannwhitneyuResult(statistic=8.0, pvalue=0.6285714285714286)"
      ]
     },
     "execution_count": 2,
     "metadata": {},
     "output_type": "execute_result"
    }
   ],
   "source": [
    "\n",
    "x1 = np.array([380, 420, 290])\n",
    "y1 = np.array([140, 360, 200, 900])\n",
    "\n",
    "stats.mannwhitneyu(x1, y1)"
   ]
  },
  {
   "cell_type": "code",
   "execution_count": null,
   "id": "5c724e71",
   "metadata": {},
   "outputs": [],
   "source": [
    "# pvalue > alpha, H0 - не отвергается. Cтатистически значимых различий нет"
   ]
  },
  {
   "cell_type": "code",
   "execution_count": null,
   "id": "f313650b",
   "metadata": {},
   "outputs": [],
   "source": [
    "# Задача 2. Исследовалось влияние препарата на уровень давления пациентов. Сначала\n",
    "# измерялось давление до приема препарата, потом через 10 минут и через 30 минут. Есть\n",
    "# ли статистически значимые различия между измерениями давления? В выборках не соблюдается условие нормальности.\n",
    "# 1е измерение до приема препарата: 150, 160, 165, 145, 155\n",
    "# 2е измерение через 10 минут: 140, 155, 150, 130, 135\n",
    "# 3е измерение через 30 минут: 130, 130, 120, 130, 125"
   ]
  },
  {
   "cell_type": "code",
   "execution_count": 3,
   "id": "41278589",
   "metadata": {},
   "outputs": [
    {
     "data": {
      "text/plain": [
       "FriedmanchisquareResult(statistic=9.578947368421062, pvalue=0.00831683351100441)"
      ]
     },
     "execution_count": 3,
     "metadata": {},
     "output_type": "execute_result"
    }
   ],
   "source": [
    "x1 = np.array([150, 160, 165, 145, 155])\n",
    "x2 = np.array([140, 155, 150, 130, 135])\n",
    "x3 = np.array([130, 130, 120, 130, 125])\n",
    "\n",
    "stats.friedmanchisquare(x1, x2, x3)"
   ]
  },
  {
   "cell_type": "code",
   "execution_count": null,
   "id": "00faa170",
   "metadata": {},
   "outputs": [],
   "source": [
    "# pvalue < alpha, H1 - принимается. Cтатистически значимые различия присутствуют"
   ]
  },
  {
   "cell_type": "code",
   "execution_count": null,
   "id": "315dd878",
   "metadata": {},
   "outputs": [],
   "source": [
    "# Задача 3. Сравните 1 и 2 е измерения, предполагая, что 3го измерения через 30 минут не было. Есть\n",
    "# ли статистически значимые различия между измерениями давления?"
   ]
  },
  {
   "cell_type": "code",
   "execution_count": 4,
   "id": "c9eebe21",
   "metadata": {},
   "outputs": [
    {
     "data": {
      "text/plain": [
       "WilcoxonResult(statistic=0.0, pvalue=0.0625)"
      ]
     },
     "execution_count": 4,
     "metadata": {},
     "output_type": "execute_result"
    }
   ],
   "source": [
    "x1 = np.array([150, 160, 165, 145, 155])\n",
    "x2 = np.array([140, 155, 150, 130, 135])\n",
    "\n",
    "stats.wilcoxon(x1, x2)"
   ]
  },
  {
   "cell_type": "code",
   "execution_count": null,
   "id": "034c5a49",
   "metadata": {},
   "outputs": [],
   "source": [
    "# pvalue > alpha, H0 - не отвергается. Cтатистически значимых различий нет"
   ]
  },
  {
   "cell_type": "code",
   "execution_count": null,
   "id": "30fdc617",
   "metadata": {},
   "outputs": [],
   "source": [
    "# Задача 4. Даны 3 группы учеников плавания. Не соблюдается условие нормальности.\n",
    "# В 1 группе время на дистанцию 50 м составляют:\n",
    "# 56, 60, 62, 55, 71, 67, 59, 58, 64, 67\n",
    "# Вторая группа : 57, 58, 69, 48, 72, 70, 68, 71, 50, 53\n",
    "# Третья группа: 57, 67, 49, 48, 47, 55, 66, 51, 54\n",
    "# Есть ли статистически значимые различия между группами?"
   ]
  },
  {
   "cell_type": "code",
   "execution_count": 5,
   "id": "1003372d",
   "metadata": {},
   "outputs": [
    {
     "data": {
      "text/plain": [
       "KruskalResult(statistic=5.465564058257224, pvalue=0.06503809985904942)"
      ]
     },
     "execution_count": 5,
     "metadata": {},
     "output_type": "execute_result"
    }
   ],
   "source": [
    "x1 = np.array([56, 60, 62, 55, 71, 67, 59, 58, 64, 67])\n",
    "x2 = np.array([57, 58, 69, 48, 72, 70, 68, 71, 50, 53])\n",
    "x3 = np.array([57, 67, 49, 48, 47, 55, 66, 51, 54])\n",
    "\n",
    "stats.kruskal(x1, x2, x3)"
   ]
  },
  {
   "cell_type": "code",
   "execution_count": null,
   "id": "c8761e19",
   "metadata": {},
   "outputs": [],
   "source": [
    "# pvalue > alpha, H0 - не отвергается. Cтатистически значимых различий нет"
   ]
  },
  {
   "cell_type": "code",
   "execution_count": null,
   "id": "51a33daa",
   "metadata": {},
   "outputs": [],
   "source": [
    "# Задача 5. Заявляется, что партия изготавливается со средним арифметическим 2,5 см. Проверить\n",
    "# данную гипотезу, если известно, что размеры изделий подчинены нормальному закону\n",
    "# распределения. Объем выборки 10, уровень статистической значимости 5%\n",
    "# 2.51, 2.35, 2.74, 2.56, 2.40, 2.36, 2.65, 2.7, 2.67, 2.34"
   ]
  },
  {
   "cell_type": "code",
   "execution_count": 19,
   "id": "839d8567",
   "metadata": {},
   "outputs": [
    {
     "name": "stdout",
     "output_type": "stream",
     "text": [
      "t-статистическое  = 0.563\n",
      "t-критическое  = 1.833\n"
     ]
    }
   ],
   "source": [
    "my_array = np.array([2.51, 2.35, 2.74, 2.56, 2.40, 2.36, 2.65, 2.7, 2.67, 2.34])\n",
    "alpha = 0.05\n",
    "n = len(my_array)\n",
    "\n",
    "mean = my_array.mean()\n",
    "std = my_array.std(ddof=1)\n",
    "\n",
    "ts = (mean - 2.5) / std * np.sqrt(len(my_array))\n",
    "print(f\"t-статистическое  = {ts:.3f}\")\n",
    "\n",
    "tk = stats.t.ppf(1 - alpha, n-1)\n",
    "print(f\"t-критическое  = {tk:.3f}\")\n"
   ]
  },
  {
   "cell_type": "code",
   "execution_count": 20,
   "id": "f46908f9",
   "metadata": {},
   "outputs": [],
   "source": [
    "# t-статистическое < t-критического. H0 гипотеза не отвергается. Cтатистически значимых различий нет"
   ]
  },
  {
   "cell_type": "code",
   "execution_count": null,
   "id": "0b89859c",
   "metadata": {},
   "outputs": [],
   "source": []
  }
 ],
 "metadata": {
  "kernelspec": {
   "display_name": "Python 3 (ipykernel)",
   "language": "python",
   "name": "python3"
  },
  "language_info": {
   "codemirror_mode": {
    "name": "ipython",
    "version": 3
   },
   "file_extension": ".py",
   "mimetype": "text/x-python",
   "name": "python",
   "nbconvert_exporter": "python",
   "pygments_lexer": "ipython3",
   "version": "3.11.1"
  }
 },
 "nbformat": 4,
 "nbformat_minor": 5
}
